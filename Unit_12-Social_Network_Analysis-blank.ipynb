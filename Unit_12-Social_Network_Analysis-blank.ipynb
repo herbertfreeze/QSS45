{
 "cells": [
  {
   "cell_type": "code",
   "execution_count": null,
   "id": "12880017-8d99-446f-a5b5-73df9a2fbb92",
   "metadata": {},
   "outputs": [],
   "source": [
    "import networkx as nx\n",
    "import random\n",
    "import pandas as pd\n",
    "from netwulf import visualize"
   ]
  },
  {
   "cell_type": "markdown",
   "id": "084d67db",
   "metadata": {},
   "source": [
    "#### Step 1: Generate two random graphs using Barabasi-Albert"
   ]
  },
  {
   "cell_type": "code",
   "execution_count": null,
   "id": "308db5c9",
   "metadata": {},
   "outputs": [],
   "source": [
    "# 1. Generate two random graphs using preferential attachment\n",
    "G1 = nx.barabasi_albert_graph(15, 3, seed=42)  \n",
    "G2 = nx.barabasi_albert_graph(15, 3, seed=43) "
   ]
  },
  {
   "cell_type": "markdown",
   "id": "c2d600f7",
   "metadata": {},
   "source": [
    "#### Step 2: Combine the two graphs"
   ]
  },
  {
   "cell_type": "code",
   "execution_count": null,
   "id": "24d2ff7f",
   "metadata": {},
   "outputs": [],
   "source": [
    "G = combined_graph = nx.disjoint_union(G1, G2)  # Ensure unique node labels\n",
    "nodes_G1 = range(len(G1.nodes()))\n",
    "nodes_G2 = range(len(G1.nodes()), len(G1.nodes()) + len(G2.nodes()))\n",
    "random_connection = (random.choice(list(nodes_G1)), random.choice(list(nodes_G2)))\n",
    "G.add_edge(*random_connection)"
   ]
  },
  {
   "cell_type": "code",
   "execution_count": null,
   "id": "364f7fb6",
   "metadata": {},
   "outputs": [],
   "source": [
    "a,b = visualize(G,)"
   ]
  },
  {
   "cell_type": "code",
   "execution_count": null,
   "id": "4549dd91",
   "metadata": {},
   "outputs": [],
   "source": [
    "G1_nodes = set(list(G1.nodes()))\n",
    "G2_nodes = set(list(G1.nodes()))\n",
    "for k, v in G.nodes(data=True):\n",
    "    if k in G1_nodes:\n",
    "        v[\"group\"] = \"red\"\n",
    "    else:\n",
    "        v[\"group\"] = \"blue\""
   ]
  },
  {
   "cell_type": "code",
   "execution_count": null,
   "id": "018e65f9",
   "metadata": {},
   "outputs": [],
   "source": [
    "stylized_network, config = visualize(G,port=2000)"
   ]
  },
  {
   "cell_type": "markdown",
   "id": "f314a11e",
   "metadata": {},
   "source": [
    "#### Computing Centrality Measures\n",
    "Below, there is degree centrality computed for you. Do the same with betweenness and closenss centralities. Then created a dataframe where the first column is the node id (0 to n), then each column is degree centrality, closeness, or betweenness."
   ]
  },
  {
   "cell_type": "code",
   "execution_count": null,
   "id": "6bce7791",
   "metadata": {},
   "outputs": [],
   "source": [
    "%%time\n",
    "DC = nx.degree_centrality(G)"
   ]
  },
  {
   "cell_type": "code",
   "execution_count": null,
   "id": "45071099",
   "metadata": {},
   "outputs": [],
   "source": [
    "# your code"
   ]
  },
  {
   "cell_type": "code",
   "execution_count": null,
   "id": "0432db3d",
   "metadata": {},
   "outputs": [],
   "source": []
  },
  {
   "cell_type": "markdown",
   "id": "8eb5537e",
   "metadata": {},
   "source": [
    "#### Increasing network size\n",
    "Now, write a function that takes in \n",
    "- n : Number of nodes and\n",
    "- m : Number of connections\n",
    "\n",
    "Then returns a combined network G. Our goal now is to understand computational constraints on larger networks. Test your code with 1000 and visualize it."
   ]
  },
  {
   "cell_type": "code",
   "execution_count": null,
   "id": "0e6d6a84",
   "metadata": {},
   "outputs": [],
   "source": [
    "# your code"
   ]
  },
  {
   "cell_type": "code",
   "execution_count": null,
   "id": "ebdbc471",
   "metadata": {},
   "outputs": [],
   "source": []
  },
  {
   "cell_type": "markdown",
   "id": "3e49e8a3",
   "metadata": {},
   "source": [
    "#### Compute the degree, betweenness, and closeness centrality. \n",
    "Crucially, time how long this takes. What do you observe?"
   ]
  },
  {
   "cell_type": "code",
   "execution_count": null,
   "id": "ee72ab6e",
   "metadata": {},
   "outputs": [],
   "source": [
    "%%time\n"
   ]
  },
  {
   "cell_type": "code",
   "execution_count": null,
   "id": "19c7b2ca",
   "metadata": {},
   "outputs": [],
   "source": [
    "%%time\n"
   ]
  },
  {
   "cell_type": "code",
   "execution_count": null,
   "id": "b032f436",
   "metadata": {},
   "outputs": [],
   "source": [
    "%%time\n"
   ]
  },
  {
   "cell_type": "markdown",
   "id": "00d4ff69",
   "metadata": {},
   "source": [
    "### Computing time\n",
    "\n",
    "Write a function that ranges from network size between 10 to 200, at increments of your choice, then plot the time it takes to finish computing DC, BC, and CC, in one figure. What do you observe?"
   ]
  },
  {
   "cell_type": "code",
   "execution_count": null,
   "id": "f744ac82",
   "metadata": {},
   "outputs": [],
   "source": []
  },
  {
   "cell_type": "code",
   "execution_count": null,
   "id": "57f4809f",
   "metadata": {},
   "outputs": [],
   "source": []
  },
  {
   "cell_type": "markdown",
   "id": "89fd1593",
   "metadata": {},
   "source": [
    "#### Understanding powerlaw distributions\n",
    "Add a column for the degree of each node. Then, plot the distribution for the degree themselves (value counts of the value counts).\n",
    "Hint:\n",
    "- Use plt.xscale(\"log\") and/or plt.yscale(\"log\") to make it more interpretable."
   ]
  },
  {
   "cell_type": "code",
   "execution_count": null,
   "id": "9a500007",
   "metadata": {},
   "outputs": [],
   "source": []
  },
  {
   "cell_type": "code",
   "execution_count": null,
   "id": "67a06eb0",
   "metadata": {},
   "outputs": [],
   "source": []
  },
  {
   "cell_type": "markdown",
   "id": "c041ab66",
   "metadata": {},
   "source": [
    "# MISC: How to load network data yourself"
   ]
  },
  {
   "cell_type": "code",
   "execution_count": null,
   "id": "8fcb5ac0",
   "metadata": {},
   "outputs": [],
   "source": [
    "G = nx.Graph()\n",
    "G.add_edges_from( \"your edge list\" )"
   ]
  },
  {
   "cell_type": "code",
   "execution_count": null,
   "id": "1a89bbf6",
   "metadata": {},
   "outputs": [],
   "source": []
  },
  {
   "cell_type": "code",
   "execution_count": null,
   "id": "6c093fb1",
   "metadata": {},
   "outputs": [],
   "source": []
  }
 ],
 "metadata": {
  "kernelspec": {
   "display_name": "Python 3 (ipykernel)",
   "language": "python",
   "name": "python3"
  },
  "language_info": {
   "codemirror_mode": {
    "name": "ipython",
    "version": 3
   },
   "file_extension": ".py",
   "mimetype": "text/x-python",
   "name": "python",
   "nbconvert_exporter": "python",
   "pygments_lexer": "ipython3",
   "version": "3.9.12"
  }
 },
 "nbformat": 4,
 "nbformat_minor": 5
}
